{
 "cells": [
  {
   "cell_type": "code",
   "execution_count": 94,
   "metadata": {},
   "outputs": [],
   "source": [
    "# Import necessary libraries\n",
    "import os\n",
    "import re\n",
    "import subprocess\n",
    "from typing import Optional"
   ]
  },
  {
   "cell_type": "code",
   "execution_count": 95,
   "metadata": {},
   "outputs": [],
   "source": [
    "# Define constants\n",
    "OPT_EXECUTABLE = \"opt\"\n",
    "LLC_EXECUTABLE = \"llc\"\n",
    "CLANG_EXECUTABLE = \"clang++\"\n",
    "CPP_CODE_FILE = \"original_code.cpp\"\n",
    "ORIGINAL_IR_FILE = \"original_code.ll\"\n",
    "OPTIMIZED_IR_FILE = \"optimized_code.ll\"\n",
    "COUNTER_PASS_FILE = \"counter_pass.so\"\n",
    "OBJ_FILE = \"program.o\"\n",
    "EXECUTABLE_FILE = \"program.out\" "
   ]
  },
  {
   "cell_type": "code",
   "execution_count": 96,
   "metadata": {},
   "outputs": [],
   "source": [
    "# Example: C++ code to be compiled\n",
    "cpp_code = \"\"\"\n",
    "#include <iostream>\n",
    "\n",
    "void print_message(const char* message, int value) {\n",
    "    if (value > 10) {\n",
    "        std::cout << message << \": \" << value << \" is greater than 10.\" << std::endl;\n",
    "    } else {\n",
    "        std::cout << message << \": \" << value << \" is not greater than 10.\" << std::endl;\n",
    "    }\n",
    "}\n",
    "\n",
    "void process_data(int a, int b, int c) {\n",
    "    print_message(\"Data A\", a);\n",
    "    print_message(\"Data B\", b);\n",
    "    print_message(\"Data C\", c);\n",
    "}\n",
    "\n",
    "int main() {\n",
    "    process_data(5, 15, 8);\n",
    "    return 0;\n",
    "}\n",
    "\"\"\""
   ]
  },
  {
   "cell_type": "code",
   "execution_count": 98,
   "metadata": {},
   "outputs": [],
   "source": [
    "def compile_cpp_to_llvm_ir(cpp_code_str, input_code_file=CPP_CODE_FILE, output_ir_file=ORIGINAL_IR_FILE, passes=\"-O3\"):\n",
    "    with open(input_code_file, \"w\") as f:\n",
    "        f.write(cpp_code_str)\n",
    "\n",
    "    try:\n",
    "        subprocess.run(\n",
    "            [CLANG_EXECUTABLE, \"-S\", \"-emit-llvm\", passes, input_code_file, \"-o\", output_ir_file],\n",
    "            check=True,\n",
    "            capture_output=True,\n",
    "            text=True\n",
    "        )\n",
    "        print(f\"C++ successfully compiled to LLVM IR -> {output_ir_file}\")\n",
    "        return output_ir_file\n",
    "    except subprocess.CalledProcessError as e:\n",
    "        print(f\"Error during C++ to LLVM IR compilation. {e.stderr}\")\n",
    "        return None\n",
    "    except FileNotFoundError:\n",
    "        print(\"Error: clang++ not found. Please ensure Clang is installed and in your PATH.\")\n",
    "        return None"
   ]
  },
  {
   "cell_type": "code",
   "execution_count": 72,
   "metadata": {},
   "outputs": [],
   "source": [
    "def compile_llvm_ir_to_executable(ir_file=ORIGINAL_IR_FILE, obj_file=OBJ_FILE, executable_file=EXECUTABLE_FILE):\n",
    "    try:\n",
    "        subprocess.run(\n",
    "            [LLC_EXECUTABLE, ir_file, \"-filetype=obj\", \"-relocation-model=pic\", \"-o\", obj_file],\n",
    "            check=True,\n",
    "            capture_output=True,\n",
    "            text=True\n",
    "        )\n",
    "        print(f\"LLVM IR successfully compiled to position-independent object file -> {obj_file}\")\n",
    "\n",
    "        # Link the object file into an executable using a C++ compiler\n",
    "        # This step is needed especially if your C++ code uses standard libraries\n",
    "        subprocess.run(\n",
    "            [\"clang++\", obj_file, \"-o\", executable_file],\n",
    "            check=True,\n",
    "            capture_output=True,\n",
    "            text=True\n",
    "        )\n",
    "        print(f\"Object file successfully linked into executable -> {executable_file}\")\n",
    "        return executable_file\n",
    "    except subprocess.CalledProcessError as e:\n",
    "        print(f\"Error during LLVM IR to executable compilation/linking: {e.stderr}\")\n",
    "        return None\n",
    "    except FileNotFoundError:\n",
    "        print(\"Error: llc or clang++/g++ not found. Please ensure LLVM and a C++ compiler are installed and in your PATH.\")\n",
    "        return None"
   ]
  },
  {
   "cell_type": "code",
   "execution_count": 77,
   "metadata": {},
   "outputs": [],
   "source": [
    "def get_instruction_count(input_ir_file: str, pass_plugin_path: str, pass_name: str = \"counter\") -> Optional[int]:\n",
    "    # 1. Pre-flight checks for file existence\n",
    "    if not os.path.exists(input_ir_file):\n",
    "        print(f\"Error: Input IR file not found at '{input_ir_file}'\")\n",
    "        return None\n",
    "    if not os.path.exists(pass_plugin_path):\n",
    "        print(f\"Error: Pass plugin not found at '{pass_plugin_path}'\")\n",
    "        return None\n",
    "\n",
    "    # 2. Construct the command\n",
    "    command = [\n",
    "        OPT_EXECUTABLE,\n",
    "        f\"-load-pass-plugin=./{pass_plugin_path}\",\n",
    "        f\"-passes={pass_name}\",\n",
    "        \"-disable-output\",\n",
    "        input_ir_file,\n",
    "    ]\n",
    "\n",
    "    # 3. Execute the command and handle potential errors\n",
    "    try:\n",
    "        result = subprocess.run(\n",
    "            command,\n",
    "            capture_output=True,\n",
    "            text=True,\n",
    "            check=True,\n",
    "            encoding='utf-8'\n",
    "        )\n",
    "    except FileNotFoundError:\n",
    "        print(f\"Error: The command '{OPT_EXECUTABLE}' was not found.\")\n",
    "        print(\"Please ensure LLVM's bin directory is in your system's PATH.\")\n",
    "        return None\n",
    "    except subprocess.CalledProcessError as e:\n",
    "        print(f\"Error: The 'opt' command failed with return code {e.returncode}.\")\n",
    "        print(\"--- Stderr from opt ---\")\n",
    "        print(e.stderr.strip())\n",
    "        return None\n",
    "    \n",
    "    # 4. Parse the output from stderr to find the instruction count\n",
    "    output_text = result.stderr\n",
    "    \n",
    "    # 5. Parse the output from stderr to find the instruction count\n",
    "    pattern = r\"^Total instructions: (\\d+)$\"\n",
    "    matches = re.findall(pattern, output_text, re.MULTILINE)\n",
    "    if matches:\n",
    "        return int(matches[0])\n",
    "    else:\n",
    "        return None"
   ]
  },
  {
   "cell_type": "code",
   "execution_count": 78,
   "metadata": {},
   "outputs": [],
   "source": [
    "def run_executable(executable_file=EXECUTABLE_FILE):\n",
    "    if not os.path.exists(executable_file):\n",
    "        print(f\"Executable file not found: {executable_file}\")\n",
    "        return None, None\n",
    "\n",
    "    try:\n",
    "        executable_path = f\"./{executable_file}\" if not executable_file.startswith((\"./\", \"/\")) else executable_file\n",
    "        result = subprocess.run(\n",
    "            [executable_path],\n",
    "            check=True,\n",
    "            capture_output=True,\n",
    "            text=True\n",
    "        )\n",
    "        print(f\"Successfully ran executable: {executable_file}\")\n",
    "        return result.stdout, result.stderr\n",
    "    except subprocess.CalledProcessError as e:\n",
    "        print(f\"Error running executable {executable_file}:\")\n",
    "        print(f\"Return code: {e.returncode}\")\n",
    "        print(f\"Stdout: {e.stdout}\")\n",
    "        print(f\"Stderr: {e.stderr}\")\n",
    "        return e.stdout, e.stderr\n",
    "    except FileNotFoundError:\n",
    "        print(f\"Error: Could not execute {executable_file}. Make sure it has execute permissions and is in the correct path.\")\n",
    "        return None, None"
   ]
  },
  {
   "cell_type": "code",
   "execution_count": 91,
   "metadata": {},
   "outputs": [
    {
     "name": "stdout",
     "output_type": "stream",
     "text": [
      "C++ successfully compiled to LLVM IR -> original_code.ll\n",
      "C++ successfully compiled to LLVM IR -> optimized_code.ll\n",
      "[+] Compiled C++ code to LLVM IR\n"
     ]
    }
   ],
   "source": [
    "# Step 1: Compile C++ code to LLVM IR\n",
    "original_ir_file = compile_cpp_to_llvm_ir(cpp_code_str=cpp_code, input_code_file=CPP_CODE_FILE, output_ir_file=ORIGINAL_IR_FILE, passes=\"\")\n",
    "optimized_ir_file = compile_cpp_to_llvm_ir(cpp_code_str=cpp_code, input_code_file=CPP_CODE_FILE, output_ir_file=OPTIMIZED_IR_FILE, passes=\"-Oz\")\n",
    "print(f\"[+] Compiled C++ code to LLVM IR\")"
   ]
  },
  {
   "cell_type": "code",
   "execution_count": 92,
   "metadata": {},
   "outputs": [
    {
     "name": "stdout",
     "output_type": "stream",
     "text": [
      "[+] Original: 46 -> Optimized: 17\n"
     ]
    }
   ],
   "source": [
    "# Step 2: Get instruction count\n",
    "# clang++ -fPIC -shared counter_pass.cpp -o counter_pass.so $(llvm-config --cxxflags --ldflags --libs)\n",
    "original_instruction_count = get_instruction_count(input_ir_file=original_ir_file, pass_plugin_path=COUNTER_PASS_FILE, pass_name=\"counter\")\n",
    "optimized_instruction_count = get_instruction_count(input_ir_file=optimized_ir_file, pass_plugin_path=COUNTER_PASS_FILE, pass_name=\"counter\")\n",
    "print(f\"[+] Original: {original_instruction_count} -> Optimized: {optimized_instruction_count}\")"
   ]
  },
  {
   "cell_type": "code",
   "execution_count": 93,
   "metadata": {},
   "outputs": [
    {
     "name": "stdout",
     "output_type": "stream",
     "text": [
      "LLVM IR successfully compiled to position-independent object file -> program.o\n",
      "Object file successfully linked into executable -> program.out\n",
      "LLVM IR successfully compiled to position-independent object file -> program.o\n",
      "Object file successfully linked into executable -> program.out\n",
      "Successfully ran executable: program.out\n",
      "Successfully ran executable: program.out\n",
      "[+] Bingo!\n"
     ]
    }
   ],
   "source": [
    "# Step 3: Execute the original and optimized code\n",
    "executable_original_file = compile_llvm_ir_to_executable(ir_file=original_ir_file, obj_file=OBJ_FILE, executable_file=EXECUTABLE_FILE)\n",
    "executable_optimized_file = compile_llvm_ir_to_executable(ir_file=optimized_ir_file, obj_file=OBJ_FILE, executable_file=EXECUTABLE_FILE)\n",
    "\n",
    "executable_original_output, executable_original_error = run_executable(executable_file=executable_original_file)\n",
    "executable_optimized_output, executable_optimized_error = run_executable(executable_file=executable_optimized_file)\n",
    "\n",
    "assert executable_original_output == executable_optimized_output\n",
    "assert executable_original_error == executable_optimized_error\n",
    "print('[+] Bingo!')"
   ]
  }
 ],
 "metadata": {
  "kernelspec": {
   "display_name": "verl_env",
   "language": "python",
   "name": "python3"
  },
  "language_info": {
   "codemirror_mode": {
    "name": "ipython",
    "version": 3
   },
   "file_extension": ".py",
   "mimetype": "text/x-python",
   "name": "python",
   "nbconvert_exporter": "python",
   "pygments_lexer": "ipython3",
   "version": "3.10.0"
  }
 },
 "nbformat": 4,
 "nbformat_minor": 2
}
